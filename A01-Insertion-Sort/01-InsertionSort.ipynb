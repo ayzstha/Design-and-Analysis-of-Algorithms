{
 "cells": [
  {
   "cell_type": "markdown",
   "metadata": {
    "collapsed": false,
    "deletable": false,
    "editable": false,
    "nbgrader": {
     "grade": false,
     "grade_id": "ccfafb",
     "locked": true,
     "schema_version": 3,
     "solution": false,
     "task": false
    }
   },
   "source": [
    "# Activity 1: Implementing Insertion Sort\n",
    "\n",
    "Implement the insertion sort algorithm:\n",
    "\n",
    "INSERTION-SORT(A,n)\n",
    "```python showLineNumbers\n",
    "for i = 2 to n\n",
    "\tkey  = A[i]\n",
    "    //Insert A[i] into the sorted subarray A[1 : i-1]\n",
    "    j = i - 1\n",
    "    while j > 0 and A[j] > key\n",
    "    \tA[j + 1] = A[j]\n",
    "        j = j - 1\n",
    "    A[j + 1] = key\n",
    "\n",
    "```\n"
   ]
  },
  {
   "cell_type": "code",
   "execution_count": 3,
   "metadata": {
    "collapsed": false,
    "deletable": false,
    "nbgrader": {
     "cell_type": "code",
     "checksum": "6564af394339750c85a4e109cbf558ac",
     "grade": true,
     "grade_id": "22367d",
     "locked": false,
     "points": 2,
     "schema_version": 3,
     "solution": true,
     "task": false
    }
   },
   "outputs": [
   ],
   "source": [
    "def insertion_sort(A, n):\n",
    "    '''takes integer list A[1 : n] and size n of A as a parameters, A is the list to sort, A IS modified'''\n",
    "    \n",
    "    for i in range (2, n+1):\n",
    "        key  = A[i]\n",
    "        j = i - 1\n",
    "        \n",
    "        while j > 0 and A[j] > key:\n",
    "            A[j + 1] = A[j]\n",
    "            j = j - 1\n",
    "        A[j + 1] = key"
   ]
  },
  {
   "cell_type": "code",
   "execution_count": 4,
   "metadata": {
    "collapsed": false,
    "deletable": false,
    "editable": false,
    "nbgrader": {
     "grade": true,
     "grade_id": "8f8172",
     "locked": true,
     "points": 2,
     "schema_version": 3,
     "solution": false,
     "task": false
    }
   },
   "outputs": [
   ],
   "source": [
    "# Unit test for insertion sort\n",
    "# These tests will not check if your function implements the GIVEN algorithm. You need to DO THAT YOURSELF!\n",
    "from nose.tools import assert_equal\n",
    "z = [\"empty\"]\n",
    "insertion_sort(z,0)\n",
    "assert_equal(z, z)\n",
    "a = [\"empty\", 1]\n",
    "insertion_sort(a,1)\n",
    "assert_equal(a, a)\n",
    "b = [\"empty\", 5,4,33,2]\n",
    "insertion_sort(b,4)\n",
    "assert_equal(b, ['empty',2,4,5,33])\n",
    "c = [\"empty\",5,2,4,6,1,3,4,2,22,1]\n",
    "insertion_sort(c, 10)\n",
    "assert_equal(c, ['empty', 1, 1, 2, 2, 3, 4, 4, 5, 6, 22])\n"
   ]
  }
 ],
 "metadata": {
  "kernelspec": {
   "argv": [
    "/usr/bin/python3",
    "-m",
    "ipykernel",
    "--HistoryManager.enabled=False",
    "--matplotlib=inline",
    "-c",
    "%config InlineBackend.figure_formats = set(['retina'])\nimport matplotlib; matplotlib.rcParams['figure.figsize'] = (12, 7)",
    "-f",
    "{connection_file}"
   ],
   "display_name": "Python 3 (system-wide)",
   "env": {
   },
   "language": "python",
   "metadata": {
    "cocalc": {
     "description": "Python 3 programming language",
     "priority": 100,
     "url": "https://www.python.org/"
    }
   },
   "name": "python3",
   "resource_dir": "/ext/jupyter/kernels/python3"
  },
  "language_info": {
   "codemirror_mode": {
    "name": "ipython",
    "version": 3
   },
   "file_extension": ".py",
   "mimetype": "text/x-python",
   "name": "python",
   "nbconvert_exporter": "python",
   "pygments_lexer": "ipython3",
   "version": "3.10.12"
  },
  "nbgrader": {
   "cocalc_minimal_stubs": true
  }
 },
 "nbformat": 4,
 "nbformat_minor": 4
}