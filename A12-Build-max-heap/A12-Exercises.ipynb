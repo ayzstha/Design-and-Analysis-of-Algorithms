{
 "cells": [
  {
   "cell_type": "markdown",
   "metadata": {
    "collapsed": false,
    "deletable": false,
    "editable": false,
    "nbgrader": {
     "grade": false,
     "grade_id": "c47109",
     "locked": true,
     "schema_version": 3,
     "solution": false,
     "task": false
    }
   },
   "source": [
    "# Activity 12: Building a Max Heap\n",
    "\n",
    "## Exercise 1\n",
    "\n",
    "In the below cell, implement the PARENT, LEFT, and RIGHT  from Activity 11 First Heaps."
   ]
  },
  {
   "cell_type": "code",
   "execution_count": 7,
   "metadata": {
    "collapsed": false,
    "deletable": false,
    "nbgrader": {
     "checksum": "2e197a85fa346a484968d8f99bdc8d34",
     "grade": true,
     "grade_id": "ecf69e",
     "locked": false,
     "points": 2,
     "schema_version": 3,
     "solution": true,
     "task": false
    }
   },
   "outputs": [
   ],
   "source": [
    "#Exercise 1\n",
    "def parent(i):\n",
    "    '''return the index of the parent of node i'''\n",
    "    return i//2\n",
    "\n",
    "#Exercise 1\n",
    "def left(i):\n",
    "    '''return the index of the left child of node i'''\n",
    "    return 2*i\n",
    "    \n",
    "#Exercise 1    \n",
    "def right(i):\n",
    "    '''return the index of the right child of node i'''\n",
    "    return 2*i + 1\n",
    "\n",
    "#Exercise 2\n",
    "def max_heapify(A,i):\n",
    "    '''Takes a list A[1..n] of size n and an index i into the list\n",
    "    MAX-HEAPIFY assumes that the binary trees rooted at LEFT[i] RIGHT[i] are max-heaps, \n",
    "    but that A[i] might be smaller than its children, thus violating the max-heap property.\n",
    "    MAX-HEAPIFY lets the value at A[i] “ﬂoat down” in the max-heap so that the subtree \n",
    "    rooted at index i obeys the max-heap property\n",
    "    A is modified'''\n",
    "    \n",
    "    l = left(i)\n",
    "    r = right(i)\n",
    "    \n",
    "    if l <= (len(A)-1) and A[l] > A[i]:\n",
    "        largest = l\n",
    "    else:\n",
    "        largest = i\n",
    "        \n",
    "    if r <= (len(A)-1) and A[r] > A[largest]:\n",
    "        largest = r\n",
    "        \n",
    "    if largest != i:\n",
    "        temp = A[i]\n",
    "        A[i] = A[largest]\n",
    "        A[largest] = temp\n",
    "        \n",
    "        max_heapify(A, largest)\n",
    "\n",
    "#Exercise 3\n",
    "def build_max_heap(A,n):\n",
    "    '''Takes an unordered list A[1..n] of size n and produces a max-heap\n",
    "    A is modified'''\n",
    "    \n",
    "    for i in range (n//2, 0, -1):\n",
    "        max_heapify(A, i)\n",
    "    "
   ]
  },
  {
   "cell_type": "code",
   "execution_count": 8,
   "metadata": {
    "collapsed": false,
    "deletable": false,
    "editable": false,
    "nbgrader": {
     "grade": true,
     "grade_id": "6d4fcf",
     "locked": true,
     "points": 1,
     "schema_version": 3,
     "solution": false,
     "task": false
    }
   },
   "outputs": [
   ],
   "source": [
    "# Unit tests for parent, left, and right\n",
    "# These tests will not check if your functions implement the GIVEN algorithm. You need to DO THAT YOURSELF!\n",
    "from nose.tools import assert_equal\n",
    "\n",
    "\n",
    "b = [\"empty\",16, 4, 10, 14, 7, 9, 3, 2, 8, 1]\n",
    "assert_equal(b[left(1)], 4)\n",
    "assert_equal(b[right(4)], 8)\n",
    "assert_equal(b[parent(7)], 10)\n"
   ]
  },
  {
   "cell_type": "markdown",
   "metadata": {
    "collapsed": false
   },
   "source": [
    "## Exercise 2\n",
    "\n",
    "Above, implement the MAX-HEAPIFY algorithm from Activity 11 First Heaps."
   ]
  },
  {
   "cell_type": "code",
   "execution_count": 9,
   "metadata": {
    "collapsed": false,
    "deletable": false,
    "editable": false,
    "nbgrader": {
     "grade": true,
     "grade_id": "f589cf",
     "locked": true,
     "points": 1,
     "schema_version": 3,
     "solution": false,
     "task": false
    }
   },
   "outputs": [
   ],
   "source": [
    "# Unit tests for max_heapify\n",
    "# These tests will not check if your function implements the GIVEN algorithm. You need to DO THAT YOURSELF!\n",
    "from nose.tools import assert_equal\n",
    "z = [\"empty\"]\n",
    "max_heapify(z,0)\n",
    "assert_equal(z, z)\n",
    "\n",
    "a = [\"empty\", 1]\n",
    "max_heapify(a,1)\n",
    "assert_equal(a, a)\n",
    "\n",
    "max_heapify(b,2)\n",
    "assert_equal(b, ['empty', 16, 14, 10, 8, 7, 9, 3, 2, 4, 1])\n",
    "\n"
   ]
  },
  {
   "cell_type": "markdown",
   "metadata": {
    "collapsed": false
   },
   "source": [
    "## Exercise 3\n",
    "\n",
    "Above, implement the BUILD-MAX-HEAP algorithms from Activity 12 Building a Heap."
   ]
  },
  {
   "cell_type": "code",
   "execution_count": 10,
   "metadata": {
    "collapsed": false,
    "deletable": false,
    "editable": false,
    "nbgrader": {
     "grade": true,
     "grade_id": "cbf8d7",
     "locked": true,
     "points": 1,
     "schema_version": 3,
     "solution": false,
     "task": false
    }
   },
   "outputs": [
   ],
   "source": [
    "# Unit tests for build_max_heap\n",
    "# These tests will not check if your function implements the GIVEN algorithm. You need to DO THAT YOURSELF!\n",
    "from nose.tools import assert_equal\n",
    "z = [\"empty\"]\n",
    "build_max_heap(z, len(z)-1)\n",
    "assert_equal(z, z)\n",
    "\n",
    "a = [\"empty\", 1]\n",
    "build_max_heap(a, len(a)-1)\n",
    "assert_equal(a, a)\n",
    "\n",
    "c = [\"empty\", 4, 1, 3, 2, 16, 9, 10, 14, 8, 7]\n",
    "build_max_heap(c, len(c)-1)\n",
    "assert_equal(c, b)\n",
    "\n",
    "d = [\"empty\", 5, 3, 17, 10, 84, 19, 6, 22, 9]\n",
    "build_max_heap(d, len(d)-1)\n",
    "assert_equal(d, ['empty', 84, 22, 19, 10, 3, 17, 6, 5, 9])\n",
    "\n",
    "c = [\"empty\", 5, 3, 17, 10, 84, 19, 6, 22, 9]"
   ]
  }
 ],
 "metadata": {
  "kernelspec": {
   "argv": [
    "/usr/bin/python3",
    "-m",
    "ipykernel",
    "--HistoryManager.enabled=False",
    "--matplotlib=inline",
    "-c",
    "%config InlineBackend.figure_formats = set(['retina'])\nimport matplotlib; matplotlib.rcParams['figure.figsize'] = (12, 7)",
    "-f",
    "{connection_file}"
   ],
   "display_name": "Python 3 (system-wide)",
   "env": {
   },
   "language": "python",
   "metadata": {
    "cocalc": {
     "description": "Python 3 programming language",
     "priority": 100,
     "url": "https://www.python.org/"
    }
   },
   "name": "python3",
   "resource_dir": "/ext/jupyter/kernels/python3"
  },
  "nbgrader": {
   "__altered": false,
   "__hash": 1025205524,
   "_root": {
    "entries": [
     [
      "size",
      1
     ],
     [
      "_root",
      {
       "entries": [
        [
         "cocalc_minimal_stubs",
         true
        ]
       ],
       "ownerID": {
       }
      }
     ],
     [
      "__hash",
      912286151
     ],
     [
      "__altered",
      false
     ],
     [
      "cocalc_minimal_stubs",
      true
     ]
    ],
    "ownerID": {
    }
   },
   "cocalc_minimal_stubs": true,
   "size": 5
  }
 },
 "nbformat": 4,
 "nbformat_minor": 4
}