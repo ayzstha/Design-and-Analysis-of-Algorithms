{
 "cells": [
  {
   "cell_type": "markdown",
   "metadata": {
    "collapsed": false,
    "deletable": false,
    "editable": false,
    "nbgrader": {
     "grade": false,
     "grade_id": "c47109",
     "locked": true,
     "schema_version": 3,
     "solution": false,
     "task": false
    }
   },
   "source": [
    "# Activity 17: First Rod cutting\n",
    "\n",
    "## Exercise 1\n",
    "\n",
    "The below cell contains an implementation of the CUT\\_ROD algorithm considered in the Activity.  Run the cell to load the function in memory.\n"
   ]
  },
  {
   "cell_type": "code",
   "execution_count": 0,
   "metadata": {
    "collapsed": false,
    "deletable": false,
    "editable": false,
    "nbgrader": {
     "grade": false,
     "grade_id": "ecf69e",
     "locked": true,
     "remove": false,
     "schema_version": 3,
     "solution": false,
     "task": false
    }
   },
   "outputs": [
   ],
   "source": [
    "# Implement the CUT-ROD algorithm\n",
    "import math\n",
    "\n",
    "def cut_rod(p,n):\n",
    "    if n == 0:\n",
    "        return 0\n",
    "    q = -math.inf\n",
    "    for i in range(1,n+1):\n",
    "        q = max(q, p[i] + cut_rod(p, n-i))\n",
    "    return q\n",
    "    "
   ]
  },
  {
   "cell_type": "markdown",
   "metadata": {
    "collapsed": false,
    "deletable": false,
    "editable": false,
    "nbgrader": {
     "grade": false,
     "grade_id": "55edaa",
     "locked": true,
     "schema_version": 3,
     "solution": false,
     "task": false
    }
   },
   "source": [
    "The below cell utilizes CUT\\_ROD to determine the maximum revenue possible for increasing rod lengths given an example table of prices.\n"
   ]
  },
  {
   "cell_type": "code",
   "execution_count": 0,
   "metadata": {
    "collapsed": false,
    "deletable": false,
    "editable": false,
    "nbgrader": {
     "grade": false,
     "grade_id": "44fe36",
     "locked": true,
     "remove": false,
     "schema_version": 3,
     "solution": false,
     "task": false
    }
   },
   "outputs": [
   ],
   "source": [
    "# Demonstrate exponential growth of time for CUT-ROD!\n",
    "import time\n",
    "# sample price array\n",
    "p = [\"empty\", 1,5,8,9,10,17,17,20,20, 25, 26, 26, 26, 28, 30, 30, 30, 42, 42, 45, 46, 47, 50, 50, 55]# this takes too long! , 56, 57, 58, 60, 65]\n",
    "times = [] #store the run times for each rod length\n",
    "print(\"Maximum length =\", len(p))\n",
    "for l in range(1,len(p)):\n",
    "    start = time.time() #get the time in seconds\n",
    "    max_revenue = cut_rod(p, l)\n",
    "    end = time.time()\n",
    "    # seconds\n",
    "    elapsed_secs = (end - start) \n",
    "    times.append(elapsed_secs)\n",
    "    print(f\"length = {l}: max r = {max_revenue} and the time to compute was {elapsed_secs} seconds\")\n",
    "    # microseconds\n",
    "    '''\n",
    "    elapsed_microsecs = (end - start) *10**6 # 1 sec = 10^6 microseconds\n",
    "    times.append(elapsed_microsecs)\n",
    "    print(f\"length = {l}: max r = {max_revenue} and the time to compute was {elapsed_microsecs} microseconds\")\n",
    "    \n",
    "    '''\n"
   ]
  },
  {
   "cell_type": "markdown",
   "metadata": {
    "collapsed": false,
    "deletable": false,
    "editable": false,
    "nbgrader": {
     "grade": false,
     "grade_id": "94e871",
     "locked": true,
     "schema_version": 3,
     "solution": false,
     "task": false
    }
   },
   "source": [
    "Plot the observed run times in the below cell. \n",
    "\n"
   ]
  },
  {
   "cell_type": "code",
   "execution_count": 0,
   "metadata": {
    "collapsed": false,
    "deletable": false,
    "editable": false,
    "nbgrader": {
     "grade": false,
     "grade_id": "6d4fcf",
     "locked": true,
     "remove": false,
     "schema_version": 3,
     "solution": false,
     "task": false
    }
   },
   "outputs": [
   ],
   "source": [
    "import matplotlib.pyplot as p\n",
    "\n",
    "p.plot(times, color=\"blue\", marker=\"o\", linestyle=\"dashed\", label=\"CUT-ROD run times\")\n",
    "\n",
    "p.title(\"Running times for CUT-ROD applied to increasing rod lengths\")\n",
    "p.xlabel(\"Length\")\n",
    "p.ylabel(\"sec\")\n",
    "p.legend() #show the labels\n",
    "p.show()"
   ]
  }
 ],
 "metadata": {
  "kernelspec": {
   "argv": [
    "/usr/bin/python3",
    "-m",
    "ipykernel",
    "--HistoryManager.enabled=False",
    "--matplotlib=inline",
    "-c",
    "%config InlineBackend.figure_formats = set(['retina'])\nimport matplotlib; matplotlib.rcParams['figure.figsize'] = (12, 7)",
    "-f",
    "{connection_file}"
   ],
   "display_name": "Python 3 (system-wide)",
   "env": {
   },
   "language": "python",
   "metadata": {
    "cocalc": {
     "description": "Python 3 programming language",
     "priority": 100,
     "url": "https://www.python.org/"
    }
   },
   "name": "python3",
   "resource_dir": "/ext/jupyter/kernels/python3"
  },
  "nbgrader": {
   "__altered": false,
   "__hash": -987262338,
   "_root": {
    "entries": [
     [
      "size",
      5
     ],
     [
      "_root",
      {
       "entries": [
        [
         "size",
         5
        ],
        [
         "_root",
         {
          "entries": [
           [
            "__altered",
            false
           ],
           [
            "__hash",
            1025205524
           ],
           [
            "_root",
            {
             "entries": [
              [
               "size",
               1
              ],
              [
               "_root",
               {
                "entries": [
                 [
                  "cocalc_minimal_stubs",
                  true
                 ]
                ],
                "ownerID": {
                }
               }
              ],
              [
               "__hash",
               912286151
              ],
              [
               "__altered",
               false
              ],
              [
               "cocalc_minimal_stubs",
               true
              ]
             ],
             "ownerID": {
             }
            }
           ],
           [
            "cocalc_minimal_stubs",
            true
           ],
           [
            "size",
            5
           ]
          ],
          "ownerID": {
          }
         }
        ],
        [
         "__hash",
         -379065967
        ],
        [
         "__altered",
         false
        ],
        [
         "cocalc_minimal_stubs",
         true
        ]
       ],
       "ownerID": {
       }
      }
     ],
     [
      "__ownerID",
      null
     ],
     [
      "__hash",
      1027578989
     ],
     [
      "__altered",
      false
     ],
     [
      "cocalc_minimal_stubs",
      true
     ]
    ],
    "ownerID": {
    }
   },
   "cocalc_minimal_stubs": true,
   "size": 6
  }
 },
 "nbformat": 4,
 "nbformat_minor": 4
}