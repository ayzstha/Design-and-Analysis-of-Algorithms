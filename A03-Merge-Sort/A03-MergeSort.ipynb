{
 "cells": [
  {
   "cell_type": "markdown",
   "metadata": {
    "collapsed": false,
    "deletable": false,
    "editable": false,
    "nbgrader": {
     "grade": false,
     "grade_id": "e0cb07",
     "locked": true,
     "schema_version": 3,
     "solution": false,
     "task": false
    }
   },
   "source": [
    "# Activity 1: Implementing Merge Sort\n",
    "\n",
    "Implement the MERGE and MERGE_SORT psuedocode given in the activity.\n"
   ]
  },
  {
   "cell_type": "code",
   "execution_count": 10,
   "metadata": {
    "collapsed": false,
    "deletable": false,
    "nbgrader": {
     "cell_type": "code",
     "checksum": "b4caffc4d7e45ba5fbe754e624c7beaa",
     "grade": true,
     "grade_id": "6dd169",
     "locked": false,
     "points": 3,
     "schema_version": 3,
     "solution": true,
     "task": false
    }
   },
   "outputs": [
   ],
   "source": [
    "def merge(A, p, q, r):\n",
    "    '''\n",
    "    *   takes integer list A as a parameter\n",
    "    *   subarray L = A[p..q] and R = A[q+1..r] are sorted\n",
    "    *   merge L = A[p..q] and R = A[q+1..r] into sorted subarray A[p..r]\n",
    "    *   A IS modified\n",
    "    '''\n",
    "    nL = q - p + 1  \n",
    "    nR = r - q      \n",
    "\n",
    "    L = [0] * nL \n",
    "    R = [0] * nR \n",
    "    \n",
    "    for i in range(nL):\n",
    "        L[i] = A[p + i]\n",
    "\n",
    "    for j in range(nR):\n",
    "        R[j] = A[q + j + 1]\n",
    "\n",
    "    i = 0 \n",
    "    j = 0\n",
    "    k = p\n",
    "    \n",
    "    while i < nL and j < nR:\n",
    "        if L[i] <= R[j]:\n",
    "            A[k] = L[i]\n",
    "            i += 1\n",
    "        else:\n",
    "            A[k] = R[j]\n",
    "            j += 1\n",
    "        k += 1\n",
    "        \n",
    "    while i < nL:\n",
    "        A[k] = L[i]\n",
    "        i += 1\n",
    "        k += 1\n",
    "        \n",
    "    while j < nR:\n",
    "        A[k] = R[j]\n",
    "        j += 1\n",
    "        k += 1\n",
    "        \n",
    "    \n",
    "def merge_sort(A, p, r):\n",
    "    '''\n",
    "    *   takes integer list A as a parameter\n",
    "    *   subarray A[p..r] is the array to sort\n",
    "    *   A IS modified\n",
    "    '''\n",
    "    if p >= r:\n",
    "        return\n",
    "    q = (p + r) // 2\n",
    "    merge_sort(A, p, q)  #left side\n",
    "    merge_sort(A, q + 1, r) #right side\n",
    "    merge(A, p, q, r)  #merge"
   ]
  },
  {
   "cell_type": "code",
   "execution_count": 11,
   "metadata": {
    "collapsed": false,
    "deletable": false,
    "editable": false,
    "nbgrader": {
     "grade": true,
     "grade_id": "865a7e",
     "locked": true,
     "points": 1,
     "schema_version": 3,
     "solution": false,
     "task": false
    }
   },
   "outputs": [
   ],
   "source": [
    "# Unit test for merge sort\n",
    "# These tests will not check if your function implements the GIVEN algorithm. You need to DO THAT YOURSELF!\n",
    "from nose.tools import assert_equal\n",
    "z = [\"empty\"]\n",
    "merge_sort(z,0, 0)\n",
    "assert_equal(z, z)\n",
    "a = [\"empty\", 1]\n",
    "merge_sort(a,1, 1)\n",
    "assert_equal(a, a)\n",
    "b = [\"empty\", 5,4,33,2]\n",
    "merge_sort(b,1, 4)\n",
    "assert_equal(b, ['empty',2,4,5,33])\n",
    "c = [\"empty\",5,2,4,6,1,3,4,22,1]\n",
    "merge_sort(c, 1, 9)\n",
    "assert_equal(c, ['empty', 1, 1, 2, 3, 4, 4, 5, 6, 22])\n",
    "d = [\"empty\", 54, 69, 70, 88, 35, 89, 42, 59, 93, 51, 43, 80, 83, 48, 6]\n",
    "n1 = len(d)-1\n",
    "merge_sort(d, 1, n1)\n",
    "assert_equal(d, ['empty', 6, 35, 42, 43, 48, 51, 54, 59, 69, 70, 80, 83, 88, 89, 93])\n",
    "e = [\"empty\", 54, 69, 70, 1, 88, 35, 89, 42, 59, 93, 51, 43, 80, 83, 48, 6]\n",
    "n2 = len(e)-1\n",
    "merge_sort(e, 1, n2)\n",
    "assert_equal(e, ['empty', 1, 6, 35, 42, 43, 48, 51, 54, 59, 69, 70, 80, 83, 88, 89, 93])\n"
   ]
  },
  {
   "cell_type": "code",
   "execution_count": 0,
   "metadata": {
    "collapsed": false
   },
   "outputs": [
   ],
   "source": [
   ]
  }
 ],
 "metadata": {
  "kernelspec": {
   "argv": [
    "/usr/bin/python3",
    "-m",
    "ipykernel",
    "--HistoryManager.enabled=False",
    "--matplotlib=inline",
    "-c",
    "%config InlineBackend.figure_formats = set(['retina'])\nimport matplotlib; matplotlib.rcParams['figure.figsize'] = (12, 7)",
    "-f",
    "{connection_file}"
   ],
   "display_name": "Python 3 (system-wide)",
   "env": {
   },
   "language": "python",
   "metadata": {
    "cocalc": {
     "description": "Python 3 programming language",
     "priority": 100,
     "url": "https://www.python.org/"
    }
   },
   "name": "python3",
   "resource_dir": "/ext/jupyter/kernels/python3"
  },
  "language_info": {
   "codemirror_mode": {
    "name": "ipython",
    "version": 3
   },
   "file_extension": ".py",
   "mimetype": "text/x-python",
   "name": "python",
   "nbconvert_exporter": "python",
   "pygments_lexer": "ipython3",
   "version": "3.10.12"
  },
  "nbgrader": {
   "cocalc_minimal_stubs": true
  }
 },
 "nbformat": 4,
 "nbformat_minor": 4
}